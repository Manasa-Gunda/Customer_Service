{
 "cells": [
  {
   "cell_type": "code",
   "execution_count": 1,
   "id": "b24e2f7f",
   "metadata": {
    "collapsed": true
   },
   "outputs": [
    {
     "name": "stdout",
     "output_type": "stream",
     "text": [
      "Requirement already satisfied: transformers in e:\\manasa\\lib\\site-packages (4.25.1)\n",
      "Requirement already satisfied: pyyaml>=5.1 in c:\\users\\manasa\\appdata\\roaming\\python\\python39\\site-packages (from transformers) (6.0)\n",
      "Requirement already satisfied: numpy>=1.17 in e:\\manasa\\lib\\site-packages (from transformers) (1.23.4)\n",
      "Requirement already satisfied: requests in e:\\manasa\\lib\\site-packages (from transformers) (2.28.1)\n",
      "Requirement already satisfied: regex!=2019.12.17 in e:\\manasa\\lib\\site-packages (from transformers) (2022.7.9)\n",
      "Requirement already satisfied: filelock in e:\\manasa\\lib\\site-packages (from transformers) (3.6.0)\n",
      "Requirement already satisfied: tokenizers!=0.11.3,<0.14,>=0.11.1 in e:\\manasa\\lib\\site-packages (from transformers) (0.13.2)\n",
      "Requirement already satisfied: tqdm>=4.27 in e:\\manasa\\lib\\site-packages (from transformers) (4.64.1)\n",
      "Requirement already satisfied: packaging>=20.0 in c:\\users\\manasa\\appdata\\roaming\\python\\python39\\site-packages (from transformers) (21.3)\n",
      "Requirement already satisfied: huggingface-hub<1.0,>=0.10.0 in e:\\manasa\\lib\\site-packages (from transformers) (0.11.1)\n",
      "Requirement already satisfied: typing-extensions>=3.7.4.3 in e:\\manasa\\lib\\site-packages (from huggingface-hub<1.0,>=0.10.0->transformers) (4.4.0)\n",
      "Requirement already satisfied: pyparsing!=3.0.5,>=2.0.2 in c:\\users\\manasa\\appdata\\roaming\\python\\python39\\site-packages (from packaging>=20.0->transformers) (3.0.6)\n",
      "Requirement already satisfied: colorama in c:\\users\\manasa\\appdata\\roaming\\python\\python39\\site-packages (from tqdm>=4.27->transformers) (0.4.6)\n",
      "Requirement already satisfied: charset-normalizer<3,>=2 in c:\\users\\manasa\\appdata\\roaming\\python\\python39\\site-packages (from requests->transformers) (2.0.8)\n",
      "Requirement already satisfied: idna<4,>=2.5 in c:\\users\\manasa\\appdata\\roaming\\python\\python39\\site-packages (from requests->transformers) (3.3)\n",
      "Requirement already satisfied: urllib3<1.27,>=1.21.1 in c:\\users\\manasa\\appdata\\roaming\\python\\python39\\site-packages (from requests->transformers) (1.26.7)\n",
      "Requirement already satisfied: certifi>=2017.4.17 in c:\\users\\manasa\\appdata\\roaming\\python\\python39\\site-packages (from requests->transformers) (2021.10.8)\n",
      "Note: you may need to restart the kernel to use updated packages.\n"
     ]
    },
    {
     "name": "stderr",
     "output_type": "stream",
     "text": [
      "WARNING: Ignoring invalid distribution -orch (e:\\manasa\\lib\\site-packages)\n",
      "WARNING: Ignoring invalid distribution -orch (e:\\manasa\\lib\\site-packages)\n",
      "WARNING: Ignoring invalid distribution -orch (e:\\manasa\\lib\\site-packages)\n",
      "WARNING: Ignoring invalid distribution -orch (e:\\manasa\\lib\\site-packages)\n",
      "WARNING: You are using pip version 21.3.1; however, version 24.1 is available.\n",
      "You should consider upgrading via the 'E:\\Manasa\\python.exe -m pip install --upgrade pip' command.\n"
     ]
    }
   ],
   "source": [
    "pip install transformers\n"
   ]
  },
  {
   "cell_type": "code",
   "execution_count": 5,
   "id": "874c95a1",
   "metadata": {
    "collapsed": true
   },
   "outputs": [
    {
     "name": "stdout",
     "output_type": "stream",
     "text": [
      "Requirement already satisfied: huggingface_hub in e:\\manasa\\lib\\site-packages (0.11.1)\n",
      "Requirement already satisfied: requests in e:\\manasa\\lib\\site-packages (from huggingface_hub) (2.28.1)\n",
      "Requirement already satisfied: tqdm in e:\\manasa\\lib\\site-packages (from huggingface_hub) (4.64.1)\n",
      "Requirement already satisfied: packaging>=20.9 in c:\\users\\manasa\\appdata\\roaming\\python\\python39\\site-packages (from huggingface_hub) (21.3)\n",
      "Requirement already satisfied: pyyaml>=5.1 in c:\\users\\manasa\\appdata\\roaming\\python\\python39\\site-packages (from huggingface_hub) (6.0)\n",
      "Requirement already satisfied: filelock in e:\\manasa\\lib\\site-packages (from huggingface_hub) (3.6.0)\n",
      "Requirement already satisfied: typing-extensions>=3.7.4.3 in e:\\manasa\\lib\\site-packages (from huggingface_hub) (4.4.0)\n",
      "Requirement already satisfied: pyparsing!=3.0.5,>=2.0.2 in c:\\users\\manasa\\appdata\\roaming\\python\\python39\\site-packages (from packaging>=20.9->huggingface_hub) (3.0.6)\n",
      "Requirement already satisfied: urllib3<1.27,>=1.21.1 in c:\\users\\manasa\\appdata\\roaming\\python\\python39\\site-packages (from requests->huggingface_hub) (1.26.7)\n",
      "Requirement already satisfied: idna<4,>=2.5 in c:\\users\\manasa\\appdata\\roaming\\python\\python39\\site-packages (from requests->huggingface_hub) (3.3)\n",
      "Requirement already satisfied: certifi>=2017.4.17 in c:\\users\\manasa\\appdata\\roaming\\python\\python39\\site-packages (from requests->huggingface_hub) (2021.10.8)\n",
      "Requirement already satisfied: charset-normalizer<3,>=2 in c:\\users\\manasa\\appdata\\roaming\\python\\python39\\site-packages (from requests->huggingface_hub) (2.0.8)\n",
      "Requirement already satisfied: colorama in c:\\users\\manasa\\appdata\\roaming\\python\\python39\\site-packages (from tqdm->huggingface_hub) (0.4.6)\n",
      "Note: you may need to restart the kernel to use updated packages.\n"
     ]
    },
    {
     "name": "stderr",
     "output_type": "stream",
     "text": [
      "WARNING: Ignoring invalid distribution -orch (e:\\manasa\\lib\\site-packages)\n",
      "WARNING: Ignoring invalid distribution -orch (e:\\manasa\\lib\\site-packages)\n",
      "WARNING: Ignoring invalid distribution -orch (e:\\manasa\\lib\\site-packages)\n",
      "WARNING: Ignoring invalid distribution -orch (e:\\manasa\\lib\\site-packages)\n",
      "WARNING: You are using pip version 21.3.1; however, version 24.1 is available.\n",
      "You should consider upgrading via the 'E:\\Manasa\\python.exe -m pip install --upgrade pip' command.\n"
     ]
    }
   ],
   "source": [
    "pip install huggingface_hub\n"
   ]
  },
  {
   "cell_type": "code",
   "execution_count": 11,
   "id": "7dc7dcd3",
   "metadata": {
    "collapsed": true
   },
   "outputs": [
    {
     "name": "stdout",
     "output_type": "stream",
     "text": [
      "Collecting diffusers[torch]\n",
      "  Downloading diffusers-0.29.1-py3-none-any.whl (2.2 MB)\n",
      "Requirement already satisfied: requests in e:\\manasa\\lib\\site-packages (from diffusers[torch]) (2.28.1)\n",
      "Requirement already satisfied: importlib-metadata in e:\\manasa\\lib\\site-packages (from diffusers[torch]) (4.11.3)\n",
      "Requirement already satisfied: regex!=2019.12.17 in e:\\manasa\\lib\\site-packages (from diffusers[torch]) (2022.7.9)\n",
      "Requirement already satisfied: filelock in e:\\manasa\\lib\\site-packages (from diffusers[torch]) (3.6.0)\n",
      "Requirement already satisfied: Pillow in c:\\users\\manasa\\appdata\\roaming\\python\\python39\\site-packages (from diffusers[torch]) (8.4.0)\n",
      "Collecting safetensors>=0.3.1\n",
      "  Using cached safetensors-0.4.3-cp39-none-win_amd64.whl (287 kB)\n",
      "Collecting huggingface-hub>=0.23.2\n",
      "  Using cached huggingface_hub-0.23.4-py3-none-any.whl (402 kB)\n",
      "Requirement already satisfied: numpy in e:\\manasa\\lib\\site-packages (from diffusers[torch]) (1.23.4)\n",
      "Requirement already satisfied: torch>=1.4 in e:\\manasa\\lib\\site-packages (from diffusers[torch]) (1.13.1)\n",
      "Collecting accelerate>=0.29.3\n",
      "  Using cached accelerate-0.31.0-py3-none-any.whl (309 kB)\n",
      "Requirement already satisfied: psutil in e:\\manasa\\lib\\site-packages (from accelerate>=0.29.3->diffusers[torch]) (5.9.0)\n",
      "Requirement already satisfied: packaging>=20.0 in c:\\users\\manasa\\appdata\\roaming\\python\\python39\\site-packages (from accelerate>=0.29.3->diffusers[torch]) (21.3)\n",
      "Requirement already satisfied: pyyaml in c:\\users\\manasa\\appdata\\roaming\\python\\python39\\site-packages (from accelerate>=0.29.3->diffusers[torch]) (6.0)\n",
      "Collecting fsspec>=2023.5.0\n",
      "  Using cached fsspec-2024.6.0-py3-none-any.whl (176 kB)\n",
      "Requirement already satisfied: tqdm>=4.42.1 in e:\\manasa\\lib\\site-packages (from huggingface-hub>=0.23.2->diffusers[torch]) (4.64.1)\n",
      "Requirement already satisfied: typing-extensions>=3.7.4.3 in e:\\manasa\\lib\\site-packages (from huggingface-hub>=0.23.2->diffusers[torch]) (4.4.0)\n",
      "Requirement already satisfied: zipp>=0.5 in c:\\users\\manasa\\appdata\\roaming\\python\\python39\\site-packages (from importlib-metadata->diffusers[torch]) (3.6.0)\n",
      "Requirement already satisfied: certifi>=2017.4.17 in c:\\users\\manasa\\appdata\\roaming\\python\\python39\\site-packages (from requests->diffusers[torch]) (2021.10.8)\n",
      "Requirement already satisfied: urllib3<1.27,>=1.21.1 in c:\\users\\manasa\\appdata\\roaming\\python\\python39\\site-packages (from requests->diffusers[torch]) (1.26.7)\n",
      "Requirement already satisfied: charset-normalizer<3,>=2 in c:\\users\\manasa\\appdata\\roaming\\python\\python39\\site-packages (from requests->diffusers[torch]) (2.0.8)\n",
      "Requirement already satisfied: idna<4,>=2.5 in c:\\users\\manasa\\appdata\\roaming\\python\\python39\\site-packages (from requests->diffusers[torch]) (3.3)\n",
      "Requirement already satisfied: pyparsing!=3.0.5,>=2.0.2 in c:\\users\\manasa\\appdata\\roaming\\python\\python39\\site-packages (from packaging>=20.0->accelerate>=0.29.3->diffusers[torch]) (3.0.6)\n",
      "Requirement already satisfied: colorama in c:\\users\\manasa\\appdata\\roaming\\python\\python39\\site-packages (from tqdm>=4.42.1->huggingface-hub>=0.23.2->diffusers[torch]) (0.4.6)\n",
      "Installing collected packages: fsspec, safetensors, huggingface-hub, diffusers, accelerate\n",
      "  Attempting uninstall: fsspec\n",
      "    Found existing installation: fsspec 2022.11.0\n",
      "    Uninstalling fsspec-2022.11.0:\n",
      "      Successfully uninstalled fsspec-2022.11.0\n",
      "  Attempting uninstall: huggingface-hub\n",
      "    Found existing installation: huggingface-hub 0.11.1\n",
      "    Uninstalling huggingface-hub-0.11.1:\n",
      "      Successfully uninstalled huggingface-hub-0.11.1\n",
      "Successfully installed accelerate-0.31.0 diffusers-0.29.1 fsspec-2024.6.0 huggingface-hub-0.23.4 safetensors-0.4.3\n",
      "Note: you may need to restart the kernel to use updated packages.\n"
     ]
    },
    {
     "name": "stderr",
     "output_type": "stream",
     "text": [
      "WARNING: Ignoring invalid distribution -orch (e:\\manasa\\lib\\site-packages)\n",
      "WARNING: Ignoring invalid distribution -orch (e:\\manasa\\lib\\site-packages)\n",
      "WARNING: Ignoring invalid distribution -orch (e:\\manasa\\lib\\site-packages)\n",
      "    WARNING: Ignoring invalid distribution -orch (e:\\manasa\\lib\\site-packages)\n",
      "    WARNING: Ignoring invalid distribution -orch (e:\\manasa\\lib\\site-packages)\n",
      "WARNING: Ignoring invalid distribution -orch (e:\\manasa\\lib\\site-packages)\n",
      "WARNING: Ignoring invalid distribution -orch (e:\\manasa\\lib\\site-packages)\n",
      "WARNING: Ignoring invalid distribution -orch (e:\\manasa\\lib\\site-packages)\n",
      "WARNING: Ignoring invalid distribution -orch (e:\\manasa\\lib\\site-packages)\n",
      "WARNING: Ignoring invalid distribution -orch (e:\\manasa\\lib\\site-packages)\n",
      "WARNING: Ignoring invalid distribution -orch (e:\\manasa\\lib\\site-packages)\n",
      "WARNING: You are using pip version 21.3.1; however, version 24.1 is available.\n",
      "You should consider upgrading via the 'E:\\Manasa\\python.exe -m pip install --upgrade pip' command.\n"
     ]
    }
   ],
   "source": [
    "pip install diffusers[torch]\n"
   ]
  },
  {
   "cell_type": "code",
   "execution_count": 17,
   "id": "eb735c78",
   "metadata": {
    "collapsed": true
   },
   "outputs": [
    {
     "name": "stdout",
     "output_type": "stream",
     "text": [
      "Requirement already satisfied: datasets in e:\\manasa\\lib\\site-packages (2.7.1)\n",
      "Collecting datasets\n",
      "  Using cached datasets-2.20.0-py3-none-any.whl (547 kB)\n",
      "Collecting pyarrow>=15.0.0\n",
      "  Using cached pyarrow-16.1.0-cp39-cp39-win_amd64.whl (25.9 MB)\n",
      "Requirement already satisfied: pyyaml>=5.1 in c:\\users\\manasa\\appdata\\roaming\\python\\python39\\site-packages (from datasets) (6.0)\n",
      "Requirement already satisfied: huggingface-hub>=0.21.2 in e:\\manasa\\lib\\site-packages (from datasets) (0.23.4)\n",
      "Requirement already satisfied: numpy>=1.17 in e:\\manasa\\lib\\site-packages (from datasets) (1.23.4)\n",
      "Collecting requests>=2.32.2\n",
      "  Using cached requests-2.32.3-py3-none-any.whl (64 kB)\n",
      "Requirement already satisfied: aiohttp in c:\\users\\manasa\\appdata\\roaming\\python\\python39\\site-packages (from datasets) (3.8.3)\n",
      "Collecting pyarrow-hotfix\n",
      "  Using cached pyarrow_hotfix-0.6-py3-none-any.whl (7.9 kB)\n",
      "Requirement already satisfied: dill<0.3.9,>=0.3.0 in e:\\manasa\\lib\\site-packages (from datasets) (0.3.6)\n",
      "Requirement already satisfied: filelock in e:\\manasa\\lib\\site-packages (from datasets) (3.6.0)\n",
      "Requirement already satisfied: multiprocess in e:\\manasa\\lib\\site-packages (from datasets) (0.70.14)\n",
      "Requirement already satisfied: pandas in c:\\users\\manasa\\appdata\\roaming\\python\\python39\\site-packages (from datasets) (1.3.4)\n",
      "Collecting fsspec[http]<=2024.5.0,>=2023.1.0\n",
      "  Using cached fsspec-2024.5.0-py3-none-any.whl (316 kB)\n",
      "Requirement already satisfied: xxhash in e:\\manasa\\lib\\site-packages (from datasets) (3.1.0)\n",
      "Collecting tqdm>=4.66.3\n",
      "  Using cached tqdm-4.66.4-py3-none-any.whl (78 kB)\n",
      "Requirement already satisfied: packaging in c:\\users\\manasa\\appdata\\roaming\\python\\python39\\site-packages (from datasets) (21.3)\n",
      "Requirement already satisfied: attrs>=17.3.0 in c:\\users\\manasa\\appdata\\roaming\\python\\python39\\site-packages (from aiohttp->datasets) (22.1.0)\n",
      "Requirement already satisfied: yarl<2.0,>=1.0 in c:\\users\\manasa\\appdata\\roaming\\python\\python39\\site-packages (from aiohttp->datasets) (1.8.2)\n",
      "Requirement already satisfied: aiosignal>=1.1.2 in c:\\users\\manasa\\appdata\\roaming\\python\\python39\\site-packages (from aiohttp->datasets) (1.3.1)\n",
      "Requirement already satisfied: frozenlist>=1.1.1 in c:\\users\\manasa\\appdata\\roaming\\python\\python39\\site-packages (from aiohttp->datasets) (1.3.3)\n",
      "Requirement already satisfied: charset-normalizer<3.0,>=2.0 in c:\\users\\manasa\\appdata\\roaming\\python\\python39\\site-packages (from aiohttp->datasets) (2.0.8)\n",
      "Requirement already satisfied: async-timeout<5.0,>=4.0.0a3 in c:\\users\\manasa\\appdata\\roaming\\python\\python39\\site-packages (from aiohttp->datasets) (4.0.2)\n",
      "Requirement already satisfied: multidict<7.0,>=4.5 in c:\\users\\manasa\\appdata\\roaming\\python\\python39\\site-packages (from aiohttp->datasets) (6.0.3)\n",
      "Requirement already satisfied: typing-extensions>=3.7.4.3 in e:\\manasa\\lib\\site-packages (from huggingface-hub>=0.21.2->datasets) (4.4.0)\n",
      "Requirement already satisfied: pyparsing!=3.0.5,>=2.0.2 in c:\\users\\manasa\\appdata\\roaming\\python\\python39\\site-packages (from packaging->datasets) (3.0.6)\n",
      "Requirement already satisfied: idna<4,>=2.5 in c:\\users\\manasa\\appdata\\roaming\\python\\python39\\site-packages (from requests>=2.32.2->datasets) (3.3)\n",
      "Requirement already satisfied: certifi>=2017.4.17 in c:\\users\\manasa\\appdata\\roaming\\python\\python39\\site-packages (from requests>=2.32.2->datasets) (2021.10.8)\n",
      "Requirement already satisfied: urllib3<3,>=1.21.1 in c:\\users\\manasa\\appdata\\roaming\\python\\python39\\site-packages (from requests>=2.32.2->datasets) (1.26.7)\n",
      "Requirement already satisfied: colorama in c:\\users\\manasa\\appdata\\roaming\\python\\python39\\site-packages (from tqdm>=4.66.3->datasets) (0.4.6)\n",
      "Requirement already satisfied: python-dateutil>=2.7.3 in c:\\users\\manasa\\appdata\\roaming\\python\\python39\\site-packages (from pandas->datasets) (2.8.2)\n",
      "Requirement already satisfied: pytz>=2017.3 in c:\\users\\manasa\\appdata\\roaming\\python\\python39\\site-packages (from pandas->datasets) (2021.3)\n",
      "Requirement already satisfied: six>=1.5 in e:\\manasa\\lib\\site-packages (from python-dateutil>=2.7.3->pandas->datasets) (1.16.0)\n",
      "Installing collected packages: tqdm, requests, fsspec, pyarrow-hotfix, pyarrow, datasets\n",
      "  Attempting uninstall: tqdm\n",
      "    Found existing installation: tqdm 4.64.1\n",
      "    Uninstalling tqdm-4.64.1:\n",
      "      Successfully uninstalled tqdm-4.64.1\n",
      "  Attempting uninstall: requests\n",
      "    Found existing installation: requests 2.28.1\n",
      "    Uninstalling requests-2.28.1:\n",
      "      Successfully uninstalled requests-2.28.1\n",
      "  Attempting uninstall: fsspec\n",
      "    Found existing installation: fsspec 2024.6.0\n",
      "    Uninstalling fsspec-2024.6.0:\n",
      "      Successfully uninstalled fsspec-2024.6.0\n",
      "  Attempting uninstall: pyarrow\n",
      "    Found existing installation: pyarrow 10.0.1\n",
      "    Uninstalling pyarrow-10.0.1:\n",
      "      Successfully uninstalled pyarrow-10.0.1\n",
      "Note: you may need to restart the kernel to use updated packages.\n"
     ]
    },
    {
     "name": "stderr",
     "output_type": "stream",
     "text": [
      "WARNING: Ignoring invalid distribution -orch (e:\\manasa\\lib\\site-packages)\n",
      "WARNING: Ignoring invalid distribution -orch (e:\\manasa\\lib\\site-packages)\n",
      "WARNING: Ignoring invalid distribution -orch (e:\\manasa\\lib\\site-packages)\n",
      "    WARNING: Ignoring invalid distribution -orch (e:\\manasa\\lib\\site-packages)\n",
      "    WARNING: Ignoring invalid distribution -orch (e:\\manasa\\lib\\site-packages)\n",
      "    WARNING: Ignoring invalid distribution -orch (e:\\manasa\\lib\\site-packages)\n",
      "    WARNING: Ignoring invalid distribution -orch (e:\\manasa\\lib\\site-packages)\n",
      "ERROR: Could not install packages due to an OSError: [WinError 5] Access is denied: 'E:\\\\Manasa\\\\Lib\\\\site-packages\\\\~yarrow\\\\arrow.dll'\n",
      "Consider using the `--user` option or check the permissions.\n",
      "\n",
      "WARNING: Ignoring invalid distribution -orch (e:\\manasa\\lib\\site-packages)\n",
      "WARNING: You are using pip version 21.3.1; however, version 24.1 is available.\n",
      "You should consider upgrading via the 'E:\\Manasa\\python.exe -m pip install --upgrade pip' command.\n"
     ]
    }
   ],
   "source": [
    "pip install -U datasets\n"
   ]
  },
  {
   "cell_type": "code",
   "execution_count": 18,
   "id": "57f71d0e",
   "metadata": {},
   "outputs": [
    {
     "name": "stdout",
     "output_type": "stream",
     "text": [
      "2022.11.0\n"
     ]
    }
   ],
   "source": [
    "import fsspec\n",
    "print(fsspec.__version__)"
   ]
  },
  {
   "cell_type": "code",
   "execution_count": 19,
   "id": "791abe77",
   "metadata": {
    "collapsed": true
   },
   "outputs": [
    {
     "name": "stdout",
     "output_type": "stream",
     "text": [
      "Collecting fsspec==2023.9.2\n",
      "  Downloading fsspec-2023.9.2-py3-none-any.whl (173 kB)\n",
      "Installing collected packages: fsspec\n",
      "  Attempting uninstall: fsspec\n",
      "    Found existing installation: fsspec 2024.5.0\n",
      "    Uninstalling fsspec-2024.5.0:\n",
      "      Successfully uninstalled fsspec-2024.5.0\n",
      "Successfully installed fsspec-2023.9.2\n",
      "Note: you may need to restart the kernel to use updated packages.\n"
     ]
    },
    {
     "name": "stderr",
     "output_type": "stream",
     "text": [
      "WARNING: Ignoring invalid distribution -orch (e:\\manasa\\lib\\site-packages)\n",
      "WARNING: Ignoring invalid distribution -orch (e:\\manasa\\lib\\site-packages)\n",
      "WARNING: Ignoring invalid distribution -orch (e:\\manasa\\lib\\site-packages)\n",
      "    WARNING: Ignoring invalid distribution -orch (e:\\manasa\\lib\\site-packages)\n",
      "WARNING: Ignoring invalid distribution -orch (e:\\manasa\\lib\\site-packages)\n",
      "WARNING: Ignoring invalid distribution -orch (e:\\manasa\\lib\\site-packages)\n",
      "WARNING: You are using pip version 21.3.1; however, version 24.1 is available.\n",
      "You should consider upgrading via the 'E:\\Manasa\\python.exe -m pip install --upgrade pip' command.\n"
     ]
    }
   ],
   "source": [
    "pip install fsspec==2023.9.2\n"
   ]
  },
  {
   "cell_type": "code",
   "execution_count": 16,
   "id": "4c2cb1b1",
   "metadata": {},
   "outputs": [
    {
     "name": "stderr",
     "output_type": "stream",
     "text": [
      "Using custom data configuration Kaludi--Customer-Support-Responses-03167c1904c342ce\n",
      "Found cached dataset csv (C:/Users/Manasa/.cache/huggingface/datasets/Kaludi___csv/Kaludi--Customer-Support-Responses-03167c1904c342ce/0.0.0/6b34fb8fcf56f7c8ba51dc895bfa2bfbe43546f190a60fcf74bb5e8afdcc2317)\n"
     ]
    },
    {
     "data": {
      "application/vnd.jupyter.widget-view+json": {
       "model_id": "30e7025524f04ba09ad9fb55075db837",
       "version_major": 2,
       "version_minor": 0
      },
      "text/plain": [
       "  0%|          | 0/1 [00:00<?, ?it/s]"
      ]
     },
     "metadata": {},
     "output_type": "display_data"
    },
    {
     "name": "stderr",
     "output_type": "stream",
     "text": [
      "Loading cached processed dataset at C:/Users/Manasa/.cache/huggingface/datasets/Kaludi___csv/Kaludi--Customer-Support-Responses-03167c1904c342ce/0.0.0/6b34fb8fcf56f7c8ba51dc895bfa2bfbe43546f190a60fcf74bb5e8afdcc2317\\cache-e54ab83903a3f30a.arrow\n"
     ]
    },
    {
     "name": "stdout",
     "output_type": "stream",
     "text": [
      "Input Query: How do I apply for a job at your company?\n",
      "Matched Response: Thank you for your interest. Can you please provide your email address so we can send you information on how to apply?\n"
     ]
    }
   ],
   "source": [
    "from transformers import AutoTokenizer, AutoModelForSeq2SeqLM\n",
    "from datasets import load_dataset\n",
    "\n",
    "# Load dataset and tokenizer\n",
    "dataset = load_dataset(\"Kaludi/Customer-Support-Responses\")\n",
    "tokenizer = AutoTokenizer.from_pretrained(\"t5-small\")\n",
    "\n",
    "# Preprocess function to prepare data\n",
    "def preprocess_function(examples):\n",
    "    inputs = examples[\"query\"]\n",
    "    responses = examples[\"response\"]\n",
    "    return {\"queries\": inputs, \"responses\": responses}\n",
    "\n",
    "# Apply the preprocess function\n",
    "preprocessed_data = dataset.map(preprocess_function, batched=True, remove_columns=dataset[\"train\"].column_names)\n",
    "\n",
    "# Create a dictionary for fast lookup\n",
    "query_to_responses = dict(zip(preprocessed_data[\"train\"][\"queries\"], preprocessed_data[\"train\"][\"responses\"]))\n",
    "\n",
    "# Function to get response based on input query\n",
    "def get_response(input_query):\n",
    "    # Find the exact response\n",
    "    return query_to_responses.get(input_query, \"No matching response found\")\n",
    "\n",
    "# Example query\n",
    "input_query = \"How do I apply for a job at your company?\"\n",
    "\n",
    "# Get the response for the input query\n",
    "matched_response = get_response(input_query)\n",
    "\n",
    "print(\"Input Query:\", input_query)\n",
    "print(\"Matched Response:\", matched_response)"
   ]
  }
 ],
 "metadata": {
  "kernelspec": {
   "display_name": "Python 3 (ipykernel)",
   "language": "python",
   "name": "python3"
  },
  "language_info": {
   "codemirror_mode": {
    "name": "ipython",
    "version": 3
   },
   "file_extension": ".py",
   "mimetype": "text/x-python",
   "name": "python",
   "nbconvert_exporter": "python",
   "pygments_lexer": "ipython3",
   "version": "3.9.7"
  }
 },
 "nbformat": 4,
 "nbformat_minor": 5
}
